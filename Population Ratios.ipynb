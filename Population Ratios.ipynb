{
 "cells": [
  {
   "cell_type": "code",
   "execution_count": null,
   "metadata": {},
   "outputs": [],
   "source": [
    "!pip install git+https://github.com/vincent-noel/pyMaBoSS.git@feat/uppmaboss_nodes_tables\n",
    "!python -m maboss_setup"
   ]
  },
  {
   "cell_type": "code",
   "execution_count": null,
   "metadata": {},
   "outputs": [],
   "source": [
    "import os, maboss\n",
    "import matplotlib.pyplot as plt"
   ]
  },
  {
   "cell_type": "code",
   "execution_count": null,
   "metadata": {},
   "outputs": [],
   "source": [
    "models_path = \"/home/vincent/Work/data/TRegModelUpPMaBoSS/UpP_Treg_v2/\""
   ]
  },
  {
   "cell_type": "code",
   "execution_count": null,
   "metadata": {},
   "outputs": [],
   "source": [
    "def plot(series, colors = ['black', 'blue', 'red']):\n",
    "    plt.figure(figsize=(20,20))\n",
    "    for i, serie in enumerate(series):\n",
    "        \n",
    "        for subserie in serie:\n",
    "            x = subserie.index.values/24\n",
    "            y = subserie.values\n",
    "            plt.semilogy(x, y, color=colors[i])\n",
    "        \n",
    "    plt.legend([subserie.name for serie in series for subserie in serie ])\n",
    "    plt.xlabel = \"days\"\n",
    "    plt.ylabel = \"population ratio\""
   ]
  },
  {
   "cell_type": "markdown",
   "metadata": {},
   "source": [
    "## Simulation of TCR2 activation"
   ]
  },
  {
   "cell_type": "markdown",
   "metadata": {},
   "source": [
    "#### Initial"
   ]
  },
  {
   "cell_type": "code",
   "execution_count": null,
   "metadata": {
    "scrolled": true
   },
   "outputs": [],
   "source": [
    "upp_actr2_result = maboss.UpdatePopulation(\n",
    "    maboss.load(\n",
    "        \"TregModel_InitPop.bnd\",\n",
    "        \"TregModel_InitPop_ActTCR2.cfg\",\n",
    "    ),\n",
    "    \"TregModel_InitPop.upp\"\n",
    ").run(workdir=\"TregModel_InitPop\", overwrite=True)\n",
    "\n",
    "serie_actr2 = upp_actr2_result.get_population_ratios()\n",
    "serie_actr2.name = \"TCR2 activation\""
   ]
  },
  {
   "cell_type": "markdown",
   "metadata": {},
   "source": [
    "#### R1"
   ]
  },
  {
   "cell_type": "code",
   "execution_count": null,
   "metadata": {},
   "outputs": [],
   "source": [
    "upp_actr2_result_1 = maboss.UpdatePopulation(\n",
    "    maboss.load(\n",
    "        \"TregModel_InitPop.bnd\",\n",
    "        \"TregModel_InitPop_ActTCR2_R1.cfg\",\n",
    "    ),\n",
    "    \"TregModel_InitPop.upp\"\n",
    ").run(workdir=\"TregModel_InitPop_R1\", overwrite=True)\n",
    "\n",
    "serie_actr2_1 = upp_actr2_result_1.get_population_ratios()\n",
    "serie_actr2_1.name = \"TCR2 activation\""
   ]
  },
  {
   "cell_type": "markdown",
   "metadata": {},
   "source": [
    "#### R2"
   ]
  },
  {
   "cell_type": "code",
   "execution_count": null,
   "metadata": {},
   "outputs": [],
   "source": [
    "upp_actr2_result_2 = maboss.UpdatePopulation(\n",
    "    maboss.load(\n",
    "        \"TregModel_InitPop.bnd\",\n",
    "        \"TregModel_InitPop_ActTCR2_R2.cfg\",\n",
    "    ),\n",
    "    \"TregModel_InitPop.upp\"\n",
    ").run(workdir=\"TregModel_InitPop_R2\", overwrite=True)\n",
    "\n",
    "serie_actr2_2 = upp_actr2_result_2.get_population_ratios()\n",
    "serie_actr2_2.name = \"TCR2 activation\""
   ]
  },
  {
   "cell_type": "markdown",
   "metadata": {},
   "source": [
    "#### Plot"
   ]
  },
  {
   "cell_type": "code",
   "execution_count": null,
   "metadata": {},
   "outputs": [],
   "source": [
    "plot([[serie_actr2, serie_actr2_1, serie_actr2_2]], colors=[\"black\"])"
   ]
  },
  {
   "cell_type": "markdown",
   "metadata": {},
   "source": [
    "## Simulation of TCR2 activation, no IL2"
   ]
  },
  {
   "cell_type": "markdown",
   "metadata": {},
   "source": [
    "#### Initial"
   ]
  },
  {
   "cell_type": "code",
   "execution_count": null,
   "metadata": {},
   "outputs": [],
   "source": [
    "upp_actr2_noIL2_result = maboss.UpdatePopulation(\n",
    "    maboss.load(\n",
    "        \"TregModel_InitPop.bnd\",\n",
    "        \"TregModel_InitPop_ActTCR2_noIL2.cfg\",\n",
    "    ),\n",
    "    \"TregModel_InitPop.upp\"\n",
    ").run(workdir=\"TRegModel_InitPop_ActTCR2_noIL2\", overwrite=True)\n",
    "\n",
    "serie_actr2_noIL2 = upp_actr2_noIL2_result.get_population_ratios()\n",
    "serie_actr2_noIL2.name = \"TCR2 activation, no IL2\""
   ]
  },
  {
   "cell_type": "markdown",
   "metadata": {},
   "source": [
    "#### R1"
   ]
  },
  {
   "cell_type": "code",
   "execution_count": null,
   "metadata": {},
   "outputs": [],
   "source": [
    "upp_actr2_noIL2_result_1 = maboss.UpdatePopulation(\n",
    "    maboss.load(\n",
    "        \"TregModel_InitPop.bnd\",\n",
    "        \"TregModel_InitPop_ActTCR2_noIL2_R1.cfg\",\n",
    "    ),\n",
    "    \"TregModel_InitPop.upp\"\n",
    ").run(workdir=\"TRegModel_InitPop_ActTCR2_R1_noIL2\", overwrite=True)\n",
    "\n",
    "serie_actr2_noIL2_1 = upp_actr2_noIL2_result_1.get_population_ratios()\n",
    "serie_actr2_noIL2_1.name = \"TCR2 activation, no IL2\""
   ]
  },
  {
   "cell_type": "markdown",
   "metadata": {},
   "source": [
    "#### R2"
   ]
  },
  {
   "cell_type": "code",
   "execution_count": null,
   "metadata": {},
   "outputs": [],
   "source": [
    "upp_actr2_noIL2_result_2 = maboss.UpdatePopulation(\n",
    "    maboss.load(\n",
    "        \"TregModel_InitPop.bnd\",\n",
    "        \"TregModel_InitPop_ActTCR2_noIL2_R2.cfg\",\n",
    "    ),\n",
    "    \"TregModel_InitPop.upp\"\n",
    ").run(workdir=\"TRegModel_InitPop_ActTCR2_R2_noIL2\", overwrite=True)\n",
    "\n",
    "serie_actr2_noIL2_2 = upp_actr2_noIL2_result_2.get_population_ratios()\n",
    "serie_actr2_noIL2_2.name = \"TCR2 activation, no IL2\""
   ]
  },
  {
   "cell_type": "markdown",
   "metadata": {},
   "source": [
    "#### Plot"
   ]
  },
  {
   "cell_type": "code",
   "execution_count": null,
   "metadata": {},
   "outputs": [],
   "source": [
    "plot([[serie_actr2_noIL2, serie_actr2_1, serie_actr2_2]], colors=[\"blue\"])"
   ]
  },
  {
   "cell_type": "markdown",
   "metadata": {},
   "source": [
    "## Simulation of TCR2 activation with TGF-beta"
   ]
  },
  {
   "cell_type": "markdown",
   "metadata": {},
   "source": [
    "#### Initial"
   ]
  },
  {
   "cell_type": "code",
   "execution_count": null,
   "metadata": {},
   "outputs": [],
   "source": [
    "upp_actr2_tgfb_result = maboss.UpdatePopulation(\n",
    "    maboss.load(\n",
    "        \"TregModel_InitPop.bnd\",\n",
    "        \"TregModel_InitPop_ActTCR2_TGFB.cfg\",\n",
    "    ),\n",
    "    \"TregModel_InitPop.upp\"\n",
    ").run(workdir=\"TRegModel_InitPop_ActTCR2_TGFB\", overwrite=True)\n",
    "\n",
    "serie_actr2_tgfb = upp_actr2_tgfb_result.get_population_ratios()\n",
    "serie_actr2_tgfb.name = \"ACTR2 activation + TGFB\""
   ]
  },
  {
   "cell_type": "markdown",
   "metadata": {},
   "source": [
    "#### R1"
   ]
  },
  {
   "cell_type": "code",
   "execution_count": null,
   "metadata": {},
   "outputs": [],
   "source": [
    "upp_actr2_tgfb_result_1 = maboss.UpdatePopulation(\n",
    "    maboss.load(\n",
    "        \"TregModel_InitPop.bnd\",\n",
    "        \"TregModel_InitPop_ActTCR2_TGFB_R1.cfg\",\n",
    "    ),\n",
    "    \"TregModel_InitPop.upp\"\n",
    ").run(workdir=\"TRegModel_InitPop_ActTCR2_TGFB_R1\", overwrite=True)\n",
    "serie_actr2_tgfb_1 = upp_actr2_tgfb_result_1.get_population_ratios()\n",
    "serie_actr2_tgfb_1.name = \"ACTR2 activation + TGFB\""
   ]
  },
  {
   "cell_type": "markdown",
   "metadata": {},
   "source": [
    "#### R2"
   ]
  },
  {
   "cell_type": "code",
   "execution_count": null,
   "metadata": {},
   "outputs": [],
   "source": [
    "upp_actr2_tgfb_result_2 = maboss.UpdatePopulation(\n",
    "    maboss.load(\n",
    "        \"TregModel_InitPop.bnd\",\n",
    "        \"TregModel_InitPop_ActTCR2_TGFB_R2.cfg\",\n",
    "    ),\n",
    "    \"TregModel_InitPop.upp\"\n",
    ").run(workdir=\"TRegModel_InitPop_ActTCR2_TGFB_R1\", overwrite=True)\n",
    "\n",
    "serie_actr2_tgfb_2 = upp_actr2_tgfb_result_2.get_population_ratios()\n",
    "serie_actr2_tgfb_2.name = \"ACTR2 activation + TGFB\""
   ]
  },
  {
   "cell_type": "markdown",
   "metadata": {},
   "source": [
    "#### Plot"
   ]
  },
  {
   "cell_type": "code",
   "execution_count": null,
   "metadata": {},
   "outputs": [],
   "source": [
    "plot([[serie_actr2_tgfb, serie_actr2_tgfb_1, serie_actr2_tgfb_2]], colors=[\"red\"])"
   ]
  },
  {
   "cell_type": "markdown",
   "metadata": {},
   "source": [
    "## Summary"
   ]
  },
  {
   "cell_type": "code",
   "execution_count": null,
   "metadata": {},
   "outputs": [],
   "source": [
    "plot([\n",
    "  [serie_actr2, serie_actr2_1, serie_actr2_2], \n",
    "  [serie_actr2_noIL2, serie_actr2_noIL2_1, serie_actr2_noIL2_2], \n",
    "  [serie_actr2_tgfb, serie_actr2_tgfb_1, serie_actr2_tgfb_2]\n",
    "], colors=[\"black\", \"blue\", \"red\"])"
   ]
  },
  {
   "cell_type": "code",
   "execution_count": null,
   "metadata": {},
   "outputs": [],
   "source": []
  }
 ],
 "metadata": {
  "kernelspec": {
   "display_name": "Python 3",
   "language": "python",
   "name": "python3"
  },
  "language_info": {
   "codemirror_mode": {
    "name": "ipython",
    "version": 3
   },
   "file_extension": ".py",
   "mimetype": "text/x-python",
   "name": "python",
   "nbconvert_exporter": "python",
   "pygments_lexer": "ipython3",
   "version": "3.6.8"
  }
 },
 "nbformat": 4,
 "nbformat_minor": 2
}
