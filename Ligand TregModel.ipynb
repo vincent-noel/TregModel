{
 "cells": [
  {
   "cell_type": "code",
   "execution_count": null,
   "metadata": {},
   "outputs": [],
   "source": [
    "!pip install git+https://github.com/vincent-noel/pyMaBoSS.git@feat/uppmaboss_nodes_tables\n",
    "!python -m maboss_setup"
   ]
  },
  {
   "cell_type": "code",
   "execution_count": 1,
   "metadata": {},
   "outputs": [],
   "source": [
    "import maboss, time"
   ]
  },
  {
   "cell_type": "markdown",
   "metadata": {},
   "source": [
    "## Simulation of TCR2 activation"
   ]
  },
  {
   "cell_type": "markdown",
   "metadata": {},
   "source": [
    "#### Initial"
   ]
  },
  {
   "cell_type": "code",
   "execution_count": 2,
   "metadata": {},
   "outputs": [
    {
     "name": "stdout",
     "output_type": "stream",
     "text": [
      "Simulation done in 134.39s\n"
     ]
    }
   ],
   "source": [
    "t0 = time.time()\n",
    "upp_actr2 = maboss.UpdatePopulation(\n",
    "    maboss.load(\n",
    "        \"TregModel_InitPop.bnd\",\n",
    "        \"TregModel_InitPop_ActTCR2.cfg\",\n",
    "    ),\n",
    "    \"TregModel_InitPop.upp\"\n",
    ")\n",
    "\n",
    "upp_actr2_result = upp_actr2.run(workdir=\"TregModel_InitPop\")\n",
    "\n",
    "serie_actr2 = upp_actr2_result.get_population_ratios()\n",
    "serie_actr2.name = \"TCR2 activation\"\n",
    "\n",
    "print(\"Simulation done in %.2fs\" % (time.time()-t0))"
   ]
  },
  {
   "cell_type": "code",
   "execution_count": 3,
   "metadata": {},
   "outputs": [
    {
     "name": "stdout",
     "output_type": "stream",
     "text": [
      "Simulation done in 280.07s\n"
     ]
    }
   ],
   "source": [
    "t0 = time.time()\n",
    "upp_actr2_tgfb = maboss.UpdatePopulation(\n",
    "    maboss.load(\n",
    "        \"TregModel_InitPop.bnd\",\n",
    "        \"TregModel_InitPop_ActTCR2_TGFB.cfg\",\n",
    "    ),\n",
    "    \"TregModel_InitPop.upp\"\n",
    ")\n",
    "\n",
    "upp_actr2_tgfb_result = upp_actr2_tgfb.run(workdir=\"TregModel_InitPop_TGFB\")\n",
    "\n",
    "serie_actr2_tgfb = upp_actr2_tgfb_result.get_population_ratios()\n",
    "serie_actr2_tgfb.name = \"TCR2 activation + TGFB\"\n",
    "\n",
    "print(\"Simulation done in %.2fs\" % (time.time()-t0))"
   ]
  },
  {
   "cell_type": "code",
   "execution_count": 4,
   "metadata": {},
   "outputs": [
    {
     "name": "stdout",
     "output_type": "stream",
     "text": [
      "States table computed in 200.13s\n"
     ]
    }
   ],
   "source": [
    "t0 = time.time()\n",
    "spd_actr2 = upp_actr2_result.get_stepwise_probability_distribution(nb_cores=6)\n",
    "print(\"States table computed in %.2fs\" % (time.time()-t0))"
   ]
  },
  {
   "cell_type": "code",
   "execution_count": 5,
   "metadata": {},
   "outputs": [
    {
     "name": "stdout",
     "output_type": "stream",
     "text": [
      "States table computed in 766.52s\n"
     ]
    }
   ],
   "source": [
    "t0 = time.time()\n",
    "spd_actr2_tgfb = upp_actr2_tgfb_result.get_stepwise_probability_distribution(nb_cores=6)\n",
    "print(\"States table computed in %.2fs\" % (time.time()-t0))"
   ]
  },
  {
   "cell_type": "code",
   "execution_count": 6,
   "metadata": {},
   "outputs": [
    {
     "name": "stdout",
     "output_type": "stream",
     "text": [
      "Node table computed in 16.36s\n"
     ]
    }
   ],
   "source": [
    "t0 = time.time()\n",
    "\n",
    "npd_actr2 = upp_actr2_result.get_nodes_stepwise_probability_distribution(\n",
    "    nodes=[\"IL2\", \"TGFB\"], \n",
    "    nb_cores=6\n",
    ")\n",
    "print(\"Node table computed in %.2fs\" % (time.time()-t0))"
   ]
  },
  {
   "cell_type": "code",
   "execution_count": 7,
   "metadata": {},
   "outputs": [
    {
     "name": "stdout",
     "output_type": "stream",
     "text": [
      "Node table computed in 66.43s\n"
     ]
    }
   ],
   "source": [
    "t0 = time.time()\n",
    "npd_actr2_tgfb = upp_actr2_tgfb_result.get_nodes_stepwise_probability_distribution(\n",
    "    nodes=[\"IL2\", \"TGFB\"], \n",
    "    nb_cores=6\n",
    ")\n",
    "print(\"Node table computed in %.2fs\" % (time.time()-t0))"
   ]
  },
  {
   "cell_type": "code",
   "execution_count": 8,
   "metadata": {},
   "outputs": [
    {
     "data": {
      "text/plain": [
       "<matplotlib.axes._subplots.AxesSubplot at 0x7fd34028c048>"
      ]
     },
     "execution_count": 8,
     "metadata": {},
     "output_type": "execute_result"
    },
    {
     "data": {
      "image/png": "[encoded data removed]",
      "text/plain": [
       "<Figure size 432x288 with 1 Axes>"
      ]
     },
     "metadata": {
      "needs_background": "light"
     },
     "output_type": "display_data"
    }
   ],
   "source": [
    "serie_actr_il2 = npd_actr2.loc[:, \"IL2\"].copy()\n",
    "serie_actr_il2.name = \"IL2, TCR activation\"\n",
    "serie_actr_il2.index/=24\n",
    "serie_actr_il2.plot(legend=True, color='black')\n",
    "\n",
    "serie_actr_tgfb_il2 = npd_actr2_tgfb.loc[:, \"IL2\"].copy()\n",
    "serie_actr_tgfb_il2.name = \"IL2, TCR activation + TGFB\"\n",
    "serie_actr_tgfb_il2.index/=24\n",
    "serie_actr_tgfb_il2.plot(legend=True, color='red')\n",
    "\n",
    "serie_actr_tgfb = npd_actr2.loc[:, \"TGFB\"].copy()\n",
    "serie_actr_tgfb.name = \"TGFB, TCR activation\"\n",
    "serie_actr_tgfb.index/=24\n",
    "serie_actr_tgfb.plot(legend=True, color='black', linestyle='--')\n",
    "\n",
    "\n",
    "serie_actr_tgfb_tgfb = npd_actr2_tgfb.loc[:, \"TGFB\"].copy()\n",
    "serie_actr_tgfb_tgfb.name = \"TGFB, TCR activation + TGFB\"\n",
    "serie_actr_tgfb_tgfb.index/=24\n",
    "serie_actr_tgfb_tgfb.plot(legend=True, color='red', linestyle='--')\n"
   ]
  },
  {
   "cell_type": "code",
   "execution_count": null,
   "metadata": {},
   "outputs": [],
   "source": []
  }
 ],
 "metadata": {
  "kernelspec": {
   "display_name": "Python 3",
   "language": "python",
   "name": "python3"
  },
  "language_info": {
   "codemirror_mode": {
    "name": "ipython",
    "version": 3
   },
   "file_extension": ".py",
   "mimetype": "text/x-python",
   "name": "python",
   "nbconvert_exporter": "python",
   "pygments_lexer": "ipython3",
   "version": "3.6.8"
  }
 },
 "nbformat": 4,
 "nbformat_minor": 2
}
